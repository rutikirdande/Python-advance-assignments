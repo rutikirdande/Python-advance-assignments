{
 "cells": [
  {
   "cell_type": "code",
   "execution_count": 3,
   "id": "d5a46e84",
   "metadata": {},
   "outputs": [
    {
     "name": "stdout",
     "output_type": "stream",
     "text": [
      "Length of list is small, size=5\n"
     ]
    }
   ],
   "source": [
    "# 1. What are the new features added in Python 3.8 version?\n",
    "# ANS-->\n",
    "# You will get to see a new type of operator which is being known as the walrus operator (:=).\n",
    "# This allows you to assign variables inside an expression. The major benefit of this is to save you some lines of code and you can write even cleaner and compact code in Python.\n",
    "\n",
    "num = [1,2,3,4,5]\n",
    "if( (size:=len(num)) < 10 ):\n",
    "    print(f\"Length of list is small, size={size}\")"
   ]
  },
  {
   "cell_type": "code",
   "execution_count": 15,
   "id": "b86ef52b",
   "metadata": {},
   "outputs": [],
   "source": [
    "# 2. What is monkey patching in Python?\n",
    "# ANS-->\n",
    "\n",
    "\n",
    "class first:\n",
    "    def print(self):\n",
    "        print(\"hello world\")"
   ]
  },
  {
   "cell_type": "code",
   "execution_count": null,
   "id": "f23315ee",
   "metadata": {},
   "outputs": [],
   "source": [
    "# code after monkey patching\n",
    "import monkey\n",
    "def monkey_function(self):\n",
    "    print(\"Hello world\")\n",
    "# updating the print() with monkey_function()\n",
    "monkey.A.print = monkey_function\n",
    "\n",
    "# revoking method print() as method monkey_function()\n",
    "obj = monkey.A()\n",
    "obj print()\n"
   ]
  },
  {
   "cell_type": "code",
   "execution_count": 28,
   "id": "d2a0508f",
   "metadata": {},
   "outputs": [
    {
     "name": "stdout",
     "output_type": "stream",
     "text": [
      "lis2 ID:  1995393864384 Vlaue:  [1, 2, [3, 4], 4]\n",
      "lis3 ID:  1995316360960 Vlaue:  [1, 2, [3, 4], 4]\n"
     ]
    }
   ],
   "source": [
    "# 3. What is the difference between a shallow copy and deep copy?\n",
    "# ANS-->\n",
    "# A shallow copy constructs a new compound object and then (to the extent possible) inserts references into it to the objects found in the original. A deep copy constructs a \n",
    "# new compound object and then, recursively, inserts copies into it of the objects found in the original.\n",
    "import copy\n",
    "lis1 = [1, 2, [3, 4], 4]\n",
    "# using copy for shallow copy\n",
    "\n",
    "lis2 = copy.copy(lis1)\n",
    "print(\"lis2 ID: \", id(lis2), \"Vlaue: \", lis2)\n",
    "\n",
    "lis3 = copy.deepcopy(lis1)\n",
    "print(\"lis3 ID: \", id(lis3), \"Vlaue: \", lis3)"
   ]
  },
  {
   "cell_type": "code",
   "execution_count": 32,
   "id": "c8187af6",
   "metadata": {},
   "outputs": [],
   "source": [
    "# 4. What is the maximum possible length of an identifier?\n",
    "# ANS-->\n",
    "# An identifier can have a maximum length of 79 characters in Python. \n",
    "# Python is one of the most popular programming languages.\n",
    "\n",
    "int student;\n",
    "float marks;"
   ]
  },
  {
   "cell_type": "code",
   "execution_count": 36,
   "id": "cda3b1b1",
   "metadata": {},
   "outputs": [
    {
     "data": {
      "text/plain": [
       "<generator object <genexpr> at 0x000001D0921A6E40>"
      ]
     },
     "execution_count": 36,
     "metadata": {},
     "output_type": "execute_result"
    }
   ],
   "source": [
    "# 5. What is generator comprehension?\n",
    "# ANS-->\n",
    "# A generator comprehension is a single-line specification for defining a generator in Python.\n",
    "# It is absolutely essential to learn this syntax in order to write simple and readable code.\n",
    "# Note: Generator comprehensions are not the only method for defining generators in Python.\n",
    "\n",
    "((\"apple\" if i < 3 else \"pie\") for i in range(6))"
   ]
  },
  {
   "cell_type": "code",
   "execution_count": 39,
   "id": "bc0f8a53",
   "metadata": {},
   "outputs": [
    {
     "name": "stdout",
     "output_type": "stream",
     "text": [
      "0\n",
      "1\n",
      "2\n"
     ]
    }
   ],
   "source": [
    "#Example of generator:\n",
    "def my_generator(n):\n",
    "\n",
    "    # initialize counter\n",
    "    value = 0\n",
    "\n",
    "    # loop until counter is less than n\n",
    "    while value < n:\n",
    "\n",
    "        # produce the current value of the counter\n",
    "        yield value\n",
    "\n",
    "        # increment the counter\n",
    "        value += 1\n",
    "\n",
    "# iterate over the generator object produced by my_generator\n",
    "for value in my_generator(3):\n",
    "\n",
    "    # print each value produced by generator\n",
    "    print(value)"
   ]
  }
 ],
 "metadata": {
  "kernelspec": {
   "display_name": "Python 3 (ipykernel)",
   "language": "python",
   "name": "python3"
  },
  "language_info": {
   "codemirror_mode": {
    "name": "ipython",
    "version": 3
   },
   "file_extension": ".py",
   "mimetype": "text/x-python",
   "name": "python",
   "nbconvert_exporter": "python",
   "pygments_lexer": "ipython3",
   "version": "3.9.13"
  }
 },
 "nbformat": 4,
 "nbformat_minor": 5
}
