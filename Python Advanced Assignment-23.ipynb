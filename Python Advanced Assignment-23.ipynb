{
 "cells": [
  {
   "cell_type": "code",
   "execution_count": 1,
   "id": "4eeeaad9",
   "metadata": {},
   "outputs": [],
   "source": [
    "# Q1. If you have any, what are your choices for increasing the comparison between different figures on\n",
    "# the same graph?\n",
    "# ANS-->\n",
    "# a Bar Graph. Bar graphs are used to compare things between different groups or to track changes over time.\n",
    "# However, when trying to measure change over time, bar graphs are best when the changes are larger."
   ]
  },
  {
   "cell_type": "code",
   "execution_count": 2,
   "id": "ad3fc3cb",
   "metadata": {},
   "outputs": [],
   "source": [
    "# Q2. Can you explain the benefit of compound interest over a higher rate of interest that does not\n",
    "# compound after reading this chapter?\n",
    "# ANS-->\n",
    "# Compound interest causes your wealth to grow faster. It makes a sum of money grow at a faster rate than simple interest because you will earn returns on the money you invest, \n",
    "# as well as on returns at the end of every compounding period. This means that you don't have to put away as much money to reach your goals!|"
   ]
  },
  {
   "cell_type": "code",
   "execution_count": 3,
   "id": "2f50feac",
   "metadata": {},
   "outputs": [],
   "source": [
    "# Q3. What is a histogram, exactly? Name a numpy method for creating such a graph.\n",
    "# ANS-->\n",
    "# NumPy has a numpy. histogram() function that is a graphical representation of the frequency distribution of data."
   ]
  },
  {
   "cell_type": "code",
   "execution_count": 5,
   "id": "6dd20c43",
   "metadata": {},
   "outputs": [
    {
     "data": {
      "image/png": "[encoded data removed]",
      "text/plain": [
       "<Figure size 640x480 with 1 Axes>"
      ]
     },
     "metadata": {},
     "output_type": "display_data"
    }
   ],
   "source": [
    "# Q4. If necessary, how do you change the aspect ratios between the X and Y axes?\n",
    "# ANS-->\n",
    "# This ratio can be modified by using the matplotlib.axes.Axes.set_aspect() function.\n",
    "# Under the hood, the set_aspect() function actually modifies something known as the data coordinate system but in practice we typically want to modify the display coordinate system\n",
    "\n",
    "#define y-unit to x-unit ratio\n",
    "import matplotlib.pyplot as plt\n",
    "\n",
    "#define matplotlib figure and axis\n",
    "fig, ax = plt.subplots()\n",
    "\n",
    "#create simple line plot\n",
    "ax.plot([0, 10],[0, 20])\n",
    "\n",
    "#set aspect ratio to 1\n",
    "ratio = 1.0\n",
    "x_left, x_right = ax.get_xlim()\n",
    "y_low, y_high = ax.get_ylim()\n",
    "ax.set_aspect(abs((x_right-x_left)/(y_low-y_high))*ratio)\n",
    "\n",
    "#display plot\n",
    "plt.show()"
   ]
  },
  {
   "cell_type": "code",
   "execution_count": 6,
   "id": "a7391122",
   "metadata": {},
   "outputs": [
    {
     "name": "stdout",
     "output_type": "stream",
     "text": [
      "vector multiplication\n",
      "[[[ 6 12 18]]\n",
      "\n",
      " [[ 6 12 18]]\n",
      "\n",
      " [[ 6 12 18]]]\n",
      "\n",
      "Elementwise multiplication of two vector\n",
      "[[[1 4 9]\n",
      "  [1 4 9]\n",
      "  [1 4 9]]]\n"
     ]
    }
   ],
   "source": [
    "# Q5. Compare and contrast the three types of array multiplication between two numpy arrays: dot\n",
    "# product, outer product, and regular multiplication of two numpy arrays.\n",
    "# ANS-->\n",
    "# In Python if we have two numpy arrays which are often referred as a vector.\n",
    "# The ‘*’ operator and numpy.dot() work differently on them. It’s important to know especially when you are dealing with data science or competitive programming problem.\n",
    "\n",
    "import numpy as np\n",
    " \n",
    " \n",
    "v1 = np.array([[1, 2, 3], [1, 2, 3], [1, 2, 3]])\n",
    " \n",
    "v2 = np.array([[[1, 2, 3], [1, 2, 3], [1, 2, 3]]])\n",
    " \n",
    "print(\"vector multiplication\")\n",
    "print(np.dot(v1, v2))\n",
    " \n",
    "print(\"\\nElementwise multiplication of two vector\")\n",
    "print(v1 * v2)"
   ]
  },
  {
   "cell_type": "code",
   "execution_count": 7,
   "id": "ffb6e081",
   "metadata": {},
   "outputs": [
    {
     "name": "stdout",
     "output_type": "stream",
     "text": [
      "vector multiplication\n",
      "[[3 6]\n",
      " [3 6]]\n",
      "\n",
      "Elementwise multiplication of two vector\n",
      "[[1 4]\n",
      " [1 4]]\n"
     ]
    }
   ],
   "source": [
    "import numpy as np\n",
    " \n",
    " \n",
    "# vector v1 of dimension (2, 2)\n",
    "v1 = np.array([[1, 2], [1, 2]])\n",
    " \n",
    "# vector v2 of dimension (2, 2)\n",
    "v2 = np.array([[1, 2], [1, 2]])\n",
    " \n",
    "print(\"vector multiplication\")\n",
    "print(np.dot(v1, v2))\n",
    " \n",
    "print(\"\\nElementwise multiplication of two vector\")\n",
    "print(v1 * v2)"
   ]
  },
  {
   "cell_type": "code",
   "execution_count": 10,
   "id": "2e351e4a",
   "metadata": {},
   "outputs": [],
   "source": [
    "# Q6. Before you buy a home, which numpy function will you use to measure your monthly mortgage\n",
    "# payment?\n",
    "# ANS-->\n",
    "# In order to calculate the monthly mortgage payment, you will use the numpy function . pmt(rate, nper, pv) where: rate = The periodic (monthly) interest rate. \n",
    "# nper = The number of payment periods (months) in the lifespan of the mortgage loan.\n",
    "\n",
    "\n",
    "# Example\n",
    "# What is the monthly payment needed to pay off a $100,000 loan in 12 years at an annual interest rate of 8.5%?\n",
    "\n",
    "import numpy as np\n",
    "np.pmt(0.085/12, 12*12, 100000)"
   ]
  },
  {
   "cell_type": "code",
   "execution_count": 12,
   "id": "62437f6c",
   "metadata": {},
   "outputs": [
    {
     "name": "stdout",
     "output_type": "stream",
     "text": [
      "['USA' 'Japan' 'UK' '' 'India' 'China']\n"
     ]
    }
   ],
   "source": [
    "# Q7. Can string data be stored in numpy arrays? If so, list at least one restriction that applies to this\n",
    "# data.\n",
    "# ANS-->\n",
    "# The dtype of any numpy array containing string values is the maximum length of any string present in the array. Once set, \n",
    "# it will only be able to store new string having length not more than the maximum length at the time of the creation\n",
    "\n",
    "import numpy as np\n",
    "  \n",
    "# Create the numpy array\n",
    "country = np.array(['USA', 'Japan', 'UK', '', 'India', 'China'])\n",
    "  \n",
    "# Print the array\n",
    "print(country)"
   ]
  }
 ],
 "metadata": {
  "kernelspec": {
   "display_name": "Python 3 (ipykernel)",
   "language": "python",
   "name": "python3"
  },
  "language_info": {
   "codemirror_mode": {
    "name": "ipython",
    "version": 3
   },
   "file_extension": ".py",
   "mimetype": "text/x-python",
   "name": "python",
   "nbconvert_exporter": "python",
   "pygments_lexer": "ipython3",
   "version": "3.9.13"
  }
 },
 "nbformat": 4,
 "nbformat_minor": 5
}
