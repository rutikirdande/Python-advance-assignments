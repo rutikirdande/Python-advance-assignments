{
 "cells": [
  {
   "cell_type": "code",
   "execution_count": 1,
   "id": "f3825f18",
   "metadata": {},
   "outputs": [],
   "source": [
    "# Q1. What is the distinction between a numpy array and a pandas data frame? Is there a way to\n",
    "# convert between the two if there is?\n",
    "# ANS-->\n",
    "# Nmupy arrays can be multi-dimensional whereas dataframe can only be two dimensional.\n",
    "# Arrays contain similar types of objects or elements whereas DataFrame can have objects or multiple or similar data types.\n",
    "# Both array and DataFrames are mutable.\n",
    "# To convert a numpy array to pandas dataframe, we use pandas. DataFrame() function of Python Pandas library"
   ]
  },
  {
   "cell_type": "code",
   "execution_count": 2,
   "id": "27d848c7",
   "metadata": {},
   "outputs": [],
   "source": [
    "# Q2. What can go wrong when an user enters in a stock-ticker symbol, and how do you handle it?\n",
    "# ANS-->\n",
    "# A ticker symbol change really means nothing to you, the investor, in the grand scheme of things. \n",
    "# The change doesn't do anything to markets or to the way you execute trades. \n",
    "# Since everything is electronic, your trading platform or broker will already update your portfolio to include the new ticker symbol."
   ]
  },
  {
   "cell_type": "code",
   "execution_count": 3,
   "id": "d2815eeb",
   "metadata": {},
   "outputs": [],
   "source": [
    "# Q3. Identify some of the plotting techniques that are used to produce a stock-market chart.\n",
    "# ANS-->\n",
    "# A line chart is probably the most common type of chart. This chart tracks the closing prices of the stock over a specific period.\n",
    "# Several indicators in the stock market exist, and the Moving-Average Convergence/Divergence line or MACD is probably the most widely used technical indicato"
   ]
  },
  {
   "cell_type": "code",
   "execution_count": 4,
   "id": "b967e8c4",
   "metadata": {},
   "outputs": [],
   "source": [
    "# Q4. Why is it essential to print a legend on a stock market chart?\n",
    "# ANS-->\n",
    "# The legend displays information about the points that are currently hovered over or, if none are hovered over, about the last points shown on the plot. T\n",
    "# he text of a legend item includes the name of a series and, depending on the series type, the value or values of the current or last point."
   ]
  },
  {
   "cell_type": "code",
   "execution_count": 5,
   "id": "6692e224",
   "metadata": {},
   "outputs": [],
   "source": [
    "# Q5. What is the best way to limit the length of a pandas data frame to less than a year?\n",
    "# ANS-->\n",
    "# There are two main ways to reduce DataFrame memory size in Pandas without necessarily compromising the information contained within the DataFrame:\n",
    "# Use smaller numeric types.\n",
    "# Convert object columns to categorical columns."
   ]
  },
  {
   "cell_type": "code",
   "execution_count": 6,
   "id": "57a19f13",
   "metadata": {},
   "outputs": [],
   "source": [
    "# Q6. What is the definition of a 180-day moving average?\n",
    "# ANS-->\n",
    "# The 200-day moving average shows the average price of a stock or other asset over the past 180 days. \n",
    "# It's a very useful tool of technical analysis for judging a stock's momentum compared with its current price."
   ]
  },
  {
   "cell_type": "code",
   "execution_count": 7,
   "id": "ac05e9f3",
   "metadata": {},
   "outputs": [],
   "source": [
    "# Q7. Did the chapter's final example use \"indirect\" importing? If so, how exactly do you do it?\n",
    "# ANS-->\n",
    "# By installing requirement.txt files, which contain all importing whichever we want to install"
   ]
  }
 ],
 "metadata": {
  "kernelspec": {
   "display_name": "Python 3 (ipykernel)",
   "language": "python",
   "name": "python3"
  },
  "language_info": {
   "codemirror_mode": {
    "name": "ipython",
    "version": 3
   },
   "file_extension": ".py",
   "mimetype": "text/x-python",
   "name": "python",
   "nbconvert_exporter": "python",
   "pygments_lexer": "ipython3",
   "version": "3.9.13"
  }
 },
 "nbformat": 4,
 "nbformat_minor": 5
}
