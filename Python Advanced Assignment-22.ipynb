{
 "cells": [
  {
   "cell_type": "code",
   "execution_count": 1,
   "id": "e9592ca8",
   "metadata": {},
   "outputs": [],
   "source": [
    "# Q1. What are the benefits of the built-in array package, if any?\n",
    "# ANS-->\n",
    "# The Array is built-in Python, which only means that you don’t need to download and install it because it comes with native Python for sure.\n",
    "# However, just like the other built-in libraries such as “datetime”, you still need to import it."
   ]
  },
  {
   "cell_type": "code",
   "execution_count": 2,
   "id": "6e55e95a",
   "metadata": {},
   "outputs": [],
   "source": [
    "# Q2. What are some of the array package's limitations?\n",
    "# ANS-->\n",
    "# An array which is formed will be homogeneous. \n",
    "# That is, in an integer array only integer values can be stored, while in a float array only floating value and character array can have only characters.\n",
    "# Thus, no array can have values of two data types."
   ]
  },
  {
   "cell_type": "code",
   "execution_count": 3,
   "id": "fb2191a4",
   "metadata": {},
   "outputs": [],
   "source": [
    "# Q3. Describe the main differences between the array and numpy packages.\n",
    "# ANS-->\n",
    "# An array consumes less memory and is convenient to use. \n",
    "# NumPy uses much less memory to store data and it provides a mechanism of specifying the data types."
   ]
  },
  {
   "cell_type": "code",
   "execution_count": 4,
   "id": "9df86c2c",
   "metadata": {},
   "outputs": [],
   "source": [
    "# Q4. Explain the distinctions between the empty, ones, and zeros functions.\n",
    "# ANS-->\n",
    "# empty, unlike zeros, does not set the array values to zero, and may therefore be marginally faster.\n",
    "# On the other hand, it requires the user to manually set all the values in the array, and should be used with caution. Return a new array setting values to zero.\n"
   ]
  },
  {
   "cell_type": "code",
   "execution_count": 6,
   "id": "c9c55241",
   "metadata": {},
   "outputs": [
    {
     "name": "stdout",
     "output_type": "stream",
     "text": [
      "[[0. 0. 0. 0.]\n",
      " [0. 1. 2. 3.]\n",
      " [0. 2. 4. 6.]\n",
      " [0. 3. 6. 9.]]\n"
     ]
    }
   ],
   "source": [
    "# Q5. In the fromfunction function, which is used to construct new arrays, what is the role of the callable\n",
    "# argument?\n",
    "# ANS-->\n",
    "# The function is called with N parameters, where N is the rank of shape. \n",
    "# Each parameter represents the coordinates of the array varying along a specific axis.\n",
    "# numpy.fromfunction() function construct an array by executing a function over each coordinate and the resulting array, \n",
    "# therefore, has a value fn(x, y, z) at coordinate (x, y, z).\n",
    "\n",
    "import numpy as np\n",
    "\n",
    "sos=np.fromfunction(lambda i, j: i*j, (4, 4), dtype = float)\n",
    "\n",
    "print(sos)"
   ]
  },
  {
   "cell_type": "code",
   "execution_count": 7,
   "id": "8aa5c5a7",
   "metadata": {},
   "outputs": [
    {
     "name": "stdout",
     "output_type": "stream",
     "text": [
      "x     = [0 1 2 3]\n",
      "x + 5 = [5 6 7 8]\n",
      "x - 5 = [-5 -4 -3 -2]\n",
      "x * 2 = [0 2 4 6]\n",
      "x / 2 = [0.  0.5 1.  1.5]\n",
      "x // 2 = [0 0 1 1]\n"
     ]
    }
   ],
   "source": [
    "# Q6. What happens when a numpy array is combined with a single-value operand (a scalar, such as\n",
    "# an int or a floating-point value) through addition, as in the expression A + n?\n",
    "# ANS-->\n",
    "x = np.arange(4)\n",
    "print(\"x     =\", x)\n",
    "print(\"x + 5 =\", x + 5)\n",
    "print(\"x - 5 =\", x - 5)\n",
    "print(\"x * 2 =\", x * 2)\n",
    "print(\"x / 2 =\", x / 2)\n",
    "print(\"x // 2 =\", x // 2)"
   ]
  },
  {
   "cell_type": "code",
   "execution_count": 8,
   "id": "8a27968a",
   "metadata": {},
   "outputs": [],
   "source": [
    "# Q7. Can array-to-scalar operations use combined operation-assign operators (such as += or *=)?\n",
    "# What is the outcome?\n",
    "# ANS-->\n",
    "# Probably the most important array operator is the · If a scalar value is assigned to an array variable,\n",
    "# the scalar value becomes the single element of an array:"
   ]
  },
  {
   "cell_type": "code",
   "execution_count": 9,
   "id": "b53c11bc",
   "metadata": {},
   "outputs": [],
   "source": [
    "# Q8. Does a numpy array contain fixed-length strings? What happens if you allocate a longer string to\n",
    "# one of these arrays?\n",
    "# ANS-->\n",
    "# The dtype of any numpy array containing string values is the maximum length of any string present in the array. Once set, \n",
    "# it will only be able to store new string having length not more than the maximum length at the time of the creation."
   ]
  },
  {
   "cell_type": "code",
   "execution_count": 17,
   "id": "4bfce23c",
   "metadata": {},
   "outputs": [
    {
     "name": "stdout",
     "output_type": "stream",
     "text": [
      "x     = [0 1 2 3]\n",
      "x + 5 = [5 6 7 8]\n",
      "x - 5 = [-5 -4 -3 -2]\n",
      "x * 2 = [0 2 4 6]\n",
      "x / 2 = [0.  0.5 1.  1.5]\n",
      "x // 2 = [0 0 1 1]\n",
      "************************************************************\n",
      "Adding to arrays: \n",
      "[[12. 13. 14.]\n",
      " [22. 23. 24.]\n",
      " [32. 33. 34.]]\n",
      "\n",
      "Multiplying two arrays: \n",
      "[[22. 24. 26.]\n",
      " [42. 44. 46.]\n",
      " [62. 64. 66.]]\n"
     ]
    }
   ],
   "source": [
    "# Q9. What happens when you combine two numpy arrays using an operation like addition (+) or\n",
    "# multiplication (*)? What are the conditions for combining two numpy arrays?\n",
    "# ANS-->\n",
    "x = np.arange(4)\n",
    "print(\"x     =\", x)\n",
    "print(\"x + 5 =\", x + 5)\n",
    "print(\"x - 5 =\", x - 5)\n",
    "print(\"x * 2 =\", x * 2)\n",
    "print(\"x / 2 =\", x / 2)\n",
    "print(\"x // 2 =\", x // 2)\n",
    "\n",
    "\n",
    "print(\"***\"*20)\n",
    "\n",
    "\n",
    "\n",
    "A = np.array([ [11, 12, 13], [21, 22, 23], [31, 32, 33] ])\n",
    "B = np.ones((3,3))\n",
    "\n",
    "print(\"Adding to arrays: \")\n",
    "print(A + B)\n",
    "\n",
    "print(\"\\nMultiplying two arrays: \")\n",
    "print(A * (B + 1))"
   ]
  },
  {
   "cell_type": "code",
   "execution_count": 18,
   "id": "8fb5018b",
   "metadata": {},
   "outputs": [
    {
     "name": "stdout",
     "output_type": "stream",
     "text": [
      "Array... [0. 0. 0. 0. 0. 0. 0.]\n",
      "Masked Array... False\n",
      "Array type... float64\n",
      "Array Dimensions... 1\n",
      "Our Array Shape... (7,)\n",
      "Elements in the Array... 7\n"
     ]
    }
   ],
   "source": [
    "# Q10. What is the best way to use a Boolean array to mask another array?\n",
    "# ANS-->\n",
    "# To create a boolean mask from an array, use the ma.make_mask() method in Python Numpy. The function can accept any sequence that is convertible to integers, or nomask. \n",
    "# Does not require that contents must be 0s and 1s, values of 0 are interpreted as False, everything else as True.\n",
    "\n",
    "\n",
    "import numpy as np\n",
    "import numpy.ma as ma\n",
    "\n",
    "# Create an array with zeros using the numpy.zeros() method in Python Numpy\n",
    "arr = np.zeros(7)\n",
    "print(\"Array...\", arr)\n",
    "\n",
    "# To Create a boolean mask from an array, use the ma.mask_mask() method in Python Numpy\n",
    "print(\"Masked Array...\", ma.make_mask(arr))\n",
    "# Type of Array\n",
    "print(\"Array type...\", arr.dtype)\n",
    "\n",
    "# Get the dimensions of the Array\n",
    "print(\"Array Dimensions...\",arr.ndim)\n",
    "\n",
    "# Get the shape of the Array\n",
    "print(\"Our Array Shape...\",arr.shape)\n",
    "\n",
    "# Get the number of elements of the Array\n",
    "print(\"Elements in the Array...\",arr.size)"
   ]
  },
  {
   "cell_type": "code",
   "execution_count": 20,
   "id": "b0fa828c",
   "metadata": {},
   "outputs": [],
   "source": [
    "# Q11. What are three different ways to get the standard deviation of a wide collection of data using\n",
    "# both standard Python and its packages? Sort the three of them by how quickly they execute.\n",
    "# ANS-->\n",
    "# Standard deviation is about determining or measuring the spread of a given data set (sample or population)\n",
    "# While calculating standard deviation of a sample of data, Bessel’s correction is applied (usage of N-1 instead of N) for calculating the average of squared difference of data points from its mean.\n",
    "# You can calculate the standard deviation of population and sample using pstdev() and stdev() methods rspectively of statistics library\n",
    "# You can calculate the standard deviation using std() method of Numpy library. For calculating standard deviation of sample of data, the value of ddof parameter is passed as 1.\n",
    "# Use the standard deviation formula for sample when data size is small else use standard deviation formula for population.\n",
    "\n",
    "\n",
    "from statistics import mean\n",
    "arr1 = [10, 16, 8, 22]\n",
    " \n",
    "arr2 = [12, 18, 12, 14]\n",
    "# Calculate mean\n",
    "#\n",
    "mean(arr1), mean(arr2)\n",
    "#\n",
    "# Custom code in Python for calculating the mean\n",
    "#\n",
    "def mean(arr):\n",
    "    sum = 0;\n",
    "    for i in range(len(arr)):\n",
    "        sum += arr[i]\n",
    "    return sum / len(arr)"
   ]
  },
  {
   "cell_type": "code",
   "execution_count": 21,
   "id": "2d2f5587",
   "metadata": {},
   "outputs": [
    {
     "data": {
      "text/plain": [
       "(6.324555320336759, 2.8284271247461903)"
      ]
     },
     "execution_count": 21,
     "metadata": {},
     "output_type": "execute_result"
    }
   ],
   "source": [
    "import math\n",
    "'''\n",
    "Calculate the biased and unbiased estimation of\n",
    "standard deviation\n",
    "'''\n",
    "def stddev(arr, dist='sample'):\n",
    "    squaredSum = 0.0\n",
    "    meanArr = mean(arr)\n",
    "    for i in range(len(arr)):\n",
    "        squaredSum += math.pow((arr[i] - meanArr),2)\n",
    "        i += 1\n",
    "    sdVal = 0\n",
    "    if dist == 'sample':\n",
    "        #\n",
    "        # For biased estimation, the formula becomes\n",
    "        # SQRT(((Xi - Xmean)**2)/N)\n",
    "        #\n",
    "        sdVal = math.sqrt(squaredSum/(len(arr) - 1))\n",
    "    elif dist == 'population':\n",
    "        #\n",
    "        # For unbiased estimation, the formula becomes\n",
    "        # SQRT(((Xi - Xmean)**2)/(N-1))\n",
    "        #\n",
    "        sdVal = math.sqrt(squaredSum/(len(arr)))\n",
    "    else:\n",
    "        return -1\n",
    "    return sdVal\n",
    " \n",
    "stddev(arr1), stddev(arr2)"
   ]
  },
  {
   "cell_type": "code",
   "execution_count": 24,
   "id": "10f5d4b4",
   "metadata": {},
   "outputs": [],
   "source": [
    "# 12. What is the dimensionality of a Boolean mask-generated array?\n",
    "# ANS-->\n",
    "# What is returned is a one-dimensional array filled with all the values that meet this condition; \n",
    "# in other words, all the values in positions at which the mask array is True .\n"
   ]
  }
 ],
 "metadata": {
  "kernelspec": {
   "display_name": "Python 3 (ipykernel)",
   "language": "python",
   "name": "python3"
  },
  "language_info": {
   "codemirror_mode": {
    "name": "ipython",
    "version": 3
   },
   "file_extension": ".py",
   "mimetype": "text/x-python",
   "name": "python",
   "nbconvert_exporter": "python",
   "pygments_lexer": "ipython3",
   "version": "3.9.13"
  }
 },
 "nbformat": 4,
 "nbformat_minor": 5
}
