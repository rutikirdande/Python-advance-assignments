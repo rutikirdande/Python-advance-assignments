{
 "cells": [
  {
   "cell_type": "code",
   "execution_count": 1,
   "id": "b20b5bd6",
   "metadata": {},
   "outputs": [],
   "source": [
    "#1. What is the concept of an abstract superclass?\n",
    "# ANS-->\n",
    "# An abstract superclass is one way to provide re-usable code.\n",
    "# You can extend the abstract class and inherit the code.\n",
    "# This is sometimes more convenient than using static methods\n",
    "# or object composition to share code. The abstract class can \"fix\" parts\n",
    "# of the code (by making it final)."
   ]
  },
  {
   "cell_type": "code",
   "execution_count": 1,
   "id": "fb0a9b47",
   "metadata": {},
   "outputs": [],
   "source": [
    "# 2. What happens when a class statement's top level contains a basic assignment statement?\n",
    "# ANS-->\n",
    "# An assignment statement evaluates the expression list (remember that this can be a single expression or a comma-separated list, the latter yielding a tuple)\n",
    "# and assigns the single resulting object to each of the target lists, from left to right."
   ]
  },
  {
   "cell_type": "code",
   "execution_count": 3,
   "id": "cdc8ed4b",
   "metadata": {},
   "outputs": [],
   "source": [
    "# 3. Why does a class need to manually call a superclass's __init__ method?\n",
    "# ANS-->\n",
    "# The main reason for always calling base class _init__ is that base class\n",
    "# may typically create member variable and initialize them to defaults.\n",
    "# So if you don't call base class init, none of that code would be executed\n",
    "# and you would end up with base class that has no member variables.\n"
   ]
  },
  {
   "cell_type": "code",
   "execution_count": 4,
   "id": "12140381",
   "metadata": {},
   "outputs": [],
   "source": [
    "# 4. How can you augment, instead of completely replacing, an inherited method?\n",
    "# ANS-->\n",
    "# A more sophisticated way to augment an inherited method involves forwarding.\n",
    "# Message forwarding allows you to augment an inherited method in such a way\n",
    "# that it can perform its inherited action and some new action.\n"
   ]
  },
  {
   "cell_type": "code",
   "execution_count": 5,
   "id": "726d0759",
   "metadata": {},
   "outputs": [],
   "source": [
    "# 5. How is the local scope of a class different from that of a function?\n",
    "# ANS-->\n",
    "# For example, if you assign a value to a name inside a function, then that name will have a local Python scope. "
   ]
  }
 ],
 "metadata": {
  "kernelspec": {
   "display_name": "Python 3 (ipykernel)",
   "language": "python",
   "name": "python3"
  },
  "language_info": {
   "codemirror_mode": {
    "name": "ipython",
    "version": 3
   },
   "file_extension": ".py",
   "mimetype": "text/x-python",
   "name": "python",
   "nbconvert_exporter": "python",
   "pygments_lexer": "ipython3",
   "version": "3.9.13"
  }
 },
 "nbformat": 4,
 "nbformat_minor": 5
}
