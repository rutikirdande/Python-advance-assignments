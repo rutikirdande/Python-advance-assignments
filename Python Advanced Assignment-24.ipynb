{
 "cells": [
  {
   "cell_type": "code",
   "execution_count": 1,
   "id": "599dc521",
   "metadata": {},
   "outputs": [],
   "source": [
    "# Q1. Is it permissible to use several import statements to import the same module? What would the\n",
    "# goal be? Can you think of a situation where it would be beneficial?\n",
    "# ANS-->\n",
    "# The module is only loaded the first time the import statement is executed and there is no performance loss by importing it again.\n",
    "# No it wouldn't benificial yet"
   ]
  },
  {
   "cell_type": "code",
   "execution_count": 2,
   "id": "4447e81e",
   "metadata": {},
   "outputs": [],
   "source": [
    "# Q2. What are some of a module's characteristics? (Name at least one.)\n",
    "# ANS-->\n",
    "# Characteristics of Modules\n",
    "# Modules contain instructions, processing logic, and data.\n",
    "# Modules can be separately compiled and stored in a library.\n",
    "# Modules can be included in a program.\n",
    "# Module segments can be used by invoking a name and some parameters.\n",
    "# Module segments can be used by other modules."
   ]
  },
  {
   "cell_type": "code",
   "execution_count": 3,
   "id": "737b0516",
   "metadata": {},
   "outputs": [],
   "source": [
    "# Q3. Circular importing, such as when two modules import each other, can lead to dependencies and\n",
    "# bugs that aren't visible. How can you go about creating a program that avoids mutual importing?\n",
    "# ANS-->\n",
    "# Circular importing is a form of circular dependency that is created with the import statement in Python.\n",
    "# Because now each module requires the other module to already be imported (so that the name we are importing exists) before it can be imported. "
   ]
  },
  {
   "cell_type": "code",
   "execution_count": 4,
   "id": "73369aa6",
   "metadata": {},
   "outputs": [],
   "source": [
    "# Q4. Why is _ _all_ _ in Python?\n",
    "# ANS-->\n",
    "# Why is _ _all_ _ in Python?\n",
    "# I guess that it is true that __all__ might be called a member of the module, but the normal terminology that we use in Python is: __all__ is a global variable\n",
    "# (remember that globals are per module and not per interpreter; it lists the globals which are imported from that module by a star import"
   ]
  },
  {
   "cell_type": "code",
   "execution_count": 5,
   "id": "1049ccfa",
   "metadata": {},
   "outputs": [],
   "source": [
    "# Q5. In what situation is it useful to refer to the _ _name_ _ attribute or the string '_ _main_ _'?\n",
    "# ANS-->\n",
    "# Python files can function as independent applications or as reusable modules. If the file was executed directly, without being imported, \n",
    "# then the statement \"if __name__ == \"main\" is used to run some code."
   ]
  },
  {
   "cell_type": "code",
   "execution_count": 6,
   "id": "648bb3bf",
   "metadata": {},
   "outputs": [],
   "source": [
    "# Q6. What are some of the benefits of attaching a program counter to the RPN interpreter\n",
    "# application, which interprets an RPN script line by line?\n",
    "# ANS-->\n",
    "# Benefits: RPN saves time and keystrokes. You avoid using and keeping track of parentheses while doing calculations.\n",
    "# The process is similar to the way you learned math on paper."
   ]
  },
  {
   "cell_type": "code",
   "execution_count": 7,
   "id": "993329dd",
   "metadata": {},
   "outputs": [],
   "source": [
    "# Q7. What are the minimum expressions or statements (or both) that you'd need to render a basic\n",
    "# programming language like RPN primitive but complete— that is, capable of carrying out any\n",
    "# computerised task theoretically possible?\n",
    "# ANS-->\n",
    "# Assignment statements initialize or change the value stored in a variable using the assignment operator =. An assignment statement always has a single variable on the left hand side. \n",
    "# The value of the expression (which can contain math operators and other variables) on the right of the = sign is stored in the variable on the left.\n",
    "\n"
   ]
  }
 ],
 "metadata": {
  "kernelspec": {
   "display_name": "Python 3 (ipykernel)",
   "language": "python",
   "name": "python3"
  },
  "language_info": {
   "codemirror_mode": {
    "name": "ipython",
    "version": 3
   },
   "file_extension": ".py",
   "mimetype": "text/x-python",
   "name": "python",
   "nbconvert_exporter": "python",
   "pygments_lexer": "ipython3",
   "version": "3.9.13"
  }
 },
 "nbformat": 4,
 "nbformat_minor": 5
}
