{
 "cells": [
  {
   "cell_type": "code",
   "execution_count": 1,
   "id": "d9479735",
   "metadata": {},
   "outputs": [],
   "source": [
    "# Q1. Which two operator overloading methods can you use in your classes to support iteration?\n",
    "# ANS-->\n",
    "# The __iter__ returns the iterator object and is implicitly called at the start of loops. \n",
    "# The __next__ method returns the next value and is implicitly called at each loop increment."
   ]
  },
  {
   "cell_type": "code",
   "execution_count": 1,
   "id": "e941d2be",
   "metadata": {},
   "outputs": [],
   "source": [
    "# Q2. In what contexts do the two operator overloading methods manage printing?\n",
    "# ANS-->\n",
    "# The operator overloading in Python means provide extended meaning beyond their predefined operational meaning. Such as, we use the \"+\" operator for adding two integers as well as joining two strings or merging two lists.\n",
    "# We can achieve this as the \"+\" operator is overloaded by the \"int\" class and \"str\" class."
   ]
  },
  {
   "cell_type": "code",
   "execution_count": 2,
   "id": "1adfccfc",
   "metadata": {},
   "outputs": [
    {
     "name": "stdout",
     "output_type": "stream",
     "text": [
      "1\n",
      "(1, 2)\n",
      "(1, 2, 3)\n"
     ]
    },
    {
     "data": {
      "text/plain": [
       "(1, 2, 3)"
      ]
     },
     "execution_count": 2,
     "metadata": {},
     "output_type": "execute_result"
    }
   ],
   "source": [
    "# Q3. In a class, how do you intercept slice operations?\n",
    "# ANS-->\n",
    "class Demo:\n",
    "    def __getitem__(self, key):\n",
    "          \n",
    "        # print a[1], a[1, 2], \n",
    "        # a[1, 2, 3]\n",
    "        print(key)\n",
    "          \n",
    "        return key\n",
    "a = Demo()\n",
    "  \n",
    "# => slice 1\n",
    "a[1]\n",
    "  \n",
    "# => slice(1, 2)\n",
    "a[1, 2]\n",
    "  \n",
    "# => (1, 2, 3)\n",
    "a[1, 2, 3]"
   ]
  },
  {
   "cell_type": "code",
   "execution_count": 10,
   "id": "5d17cf1e",
   "metadata": {},
   "outputs": [],
   "source": [
    "# Q4. In a class, how do you capture in-place addition?\n",
    "# ANS-->\n",
    "# Python provides the operator x += y to add two objects in-place by calculating the sum x + y \n",
    "# and assigning the result to the first operands variable name x .\n",
    "# You can set up the in-place addition behavior for your own class \n",
    "# by overriding the magic “dunder” method __iadd__(self, other) in your \n",
    "# class definition."
   ]
  },
  {
   "cell_type": "code",
   "execution_count": 1,
   "id": "8e1237b5",
   "metadata": {},
   "outputs": [],
   "source": [
    "# Q5. When is it appropriate to use operator overloading?\n",
    "# ANS-->\n",
    "# When one or both operands are of a user-defined class or structure type,\n",
    "# operator overloading makes it easier to specify user-defined implementation\n",
    "# for such operations. This makes user-defined types more similar to the basic primitive data types in terms of behaviour."
   ]
  }
 ],
 "metadata": {
  "kernelspec": {
   "display_name": "Python 3 (ipykernel)",
   "language": "python",
   "name": "python3"
  },
  "language_info": {
   "codemirror_mode": {
    "name": "ipython",
    "version": 3
   },
   "file_extension": ".py",
   "mimetype": "text/x-python",
   "name": "python",
   "nbconvert_exporter": "python",
   "pygments_lexer": "ipython3",
   "version": "3.9.13"
  }
 },
 "nbformat": 4,
 "nbformat_minor": 5
}
