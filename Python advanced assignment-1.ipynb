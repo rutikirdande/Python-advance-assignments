{
 "cells": [
  {
   "cell_type": "code",
   "execution_count": 1,
   "id": "02dba0c2",
   "metadata": {},
   "outputs": [],
   "source": [
    "# Q1. What is the purpose of Python's OOP?\n",
    "#ANS-->\n",
    "# oriented programming is a programming paradigm that provides a means\n",
    "# of structuring programs so that properties and behaviors are bundled \n",
    "# into individual objects."
   ]
  },
  {
   "cell_type": "code",
   "execution_count": 2,
   "id": "f9966a83",
   "metadata": {},
   "outputs": [],
   "source": [
    "# Q2. Where does an inheritance search look for an attribute?\n",
    "#ANS-->\n",
    "# An inheritance search looks for an attribute first in the instance object, \n",
    "# then in the class the instance was created from, then in all higher superclasses, \n",
    "# progressing from left to right (by default).\n",
    "# The search stops at the first place the attribute is found."
   ]
  },
  {
   "cell_type": "code",
   "execution_count": 3,
   "id": "f9ff692c",
   "metadata": {},
   "outputs": [],
   "source": [
    "# Q3. How do you distinguish between a class object and an instance object?\n",
    "#ANS-->\n",
    "# Classes are a kind of factory for creating multiple instances. Classes also \n",
    "# support operator overloading methods, which instances inherit, and treat any\n",
    "# functions nested in the class as methods for processing instances."
   ]
  },
  {
   "cell_type": "code",
   "execution_count": 4,
   "id": "17233e4d",
   "metadata": {},
   "outputs": [],
   "source": [
    "# Q4 What makes the first argument in a class's method function special?\n",
    "#ANS-->\n",
    "# The calling process is automatic while the receiving process is not \n",
    "# (its explicit). This is the reason the first parameter of a function\n",
    "# in class must be the object itself. "
   ]
  },
  {
   "cell_type": "code",
   "execution_count": 5,
   "id": "1f29b60a",
   "metadata": {},
   "outputs": [],
   "source": [
    "# Q5. What is the purpose of the __init__ method?\n",
    "#ANS-->\n",
    "# This method is called when an object is created from \n",
    "# a class and it allows the class to initialize the \n",
    "# attributes of the class."
   ]
  },
  {
   "cell_type": "code",
   "execution_count": 6,
   "id": "86ff69d4",
   "metadata": {},
   "outputs": [],
   "source": [
    "# Q6. What is the process for creating a class instance?\n",
    "#ANS-->\n",
    "# To create instances of a class, you call the class using class name \n",
    "# and pass in whatever arguments its __init__ method accepts.\n"
   ]
  },
  {
   "cell_type": "code",
   "execution_count": 7,
   "id": "1544341e",
   "metadata": {},
   "outputs": [],
   "source": [
    "# Q7. What is the process for creating a class?\n",
    "#ANS-->\n",
    "class dog:\n",
    "    pass\n",
    "    "
   ]
  },
  {
   "cell_type": "code",
   "execution_count": 8,
   "id": "57c10a49",
   "metadata": {},
   "outputs": [],
   "source": [
    "# Q8. How would you define the superclasses of a class?\n",
    "#ANS-->\n",
    "# A superclass is the class from which many subclasses can be created.\n",
    "# The subclasses inherit the characteristics of a superclass. \n",
    "# The superclass is also known as the parent class or base class."
   ]
  },
  {
   "cell_type": "code",
   "execution_count": null,
   "id": "b753a9ee",
   "metadata": {},
   "outputs": [],
   "source": []
  }
 ],
 "metadata": {
  "kernelspec": {
   "display_name": "Python 3 (ipykernel)",
   "language": "python",
   "name": "python3"
  },
  "language_info": {
   "codemirror_mode": {
    "name": "ipython",
    "version": 3
   },
   "file_extension": ".py",
   "mimetype": "text/x-python",
   "name": "python",
   "nbconvert_exporter": "python",
   "pygments_lexer": "ipython3",
   "version": "3.9.13"
  }
 },
 "nbformat": 4,
 "nbformat_minor": 5
}
