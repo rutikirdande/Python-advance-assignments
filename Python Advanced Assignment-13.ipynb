{
 "cells": [
  {
   "cell_type": "code",
   "execution_count": 6,
   "id": "8de32c4a",
   "metadata": {},
   "outputs": [
    {
     "name": "stdout",
     "output_type": "stream",
     "text": [
      "['Fiona', 'Emmanuel', 'David', 'Charlie', 'Bob', 'Alice']\n"
     ]
    }
   ],
   "source": [
    "# Q1. Can you create a programme or function that employs both positive and negative indexing? Is\n",
    "# there any repercussion if you do so?\n",
    "# ANS-->\n",
    "# In Python, you can start indexing from the end of an iterable. This is known as negative indexing.\n",
    "# This means you can use both positive and negative indexes to access iterables.\n",
    "\n",
    "\n",
    "names = [\"Alice\", \"Bob\", \"Charlie\", \"David\", \"Emmanuel\", \"Fiona\"]\n",
    "last_three = names[::-1]\n",
    "print(last_three)"
   ]
  },
  {
   "cell_type": "code",
   "execution_count": 9,
   "id": "573ad2f4",
   "metadata": {},
   "outputs": [],
   "source": [
    "# Q2. What is the most effective way of starting with 1,000 elements in a Python list? Assume that all\n",
    "# elements should be set to the same value.\n",
    "# ANS-->\n",
    "arr = []\n",
    "for i in range(1000):\n",
    "    arr.append(i)\n"
   ]
  },
  {
   "cell_type": "code",
   "execution_count": 10,
   "id": "4375407d",
   "metadata": {},
   "outputs": [
    {
     "name": "stdout",
     "output_type": "stream",
     "text": [
      "[50, 30, 90, 50]\n"
     ]
    }
   ],
   "source": [
    "# Q3. How do you slice a list to get any other part while missing the rest? (For example, suppose you\n",
    "# want to make a new list with the elements first, third, fifth, seventh, and so on.)\n",
    "# ANS-->\n",
    "Lst = [50, 70, 30, 20, 90, 10, 50]\n",
    " \n",
    "# Display list\n",
    "print(Lst[::2])"
   ]
  },
  {
   "cell_type": "code",
   "execution_count": 11,
   "id": "3563009a",
   "metadata": {},
   "outputs": [],
   "source": [
    "# Q4. Explain the distinctions between indexing and slicing.\n",
    "# ANS-->\n",
    "# Slicing in Python refers to extracting a subset or specific part of the sequence list,\n",
    "# tuple, or string in a specific range. While indexing refers to accessing a single element from an array, it is used to get slices of arrays"
   ]
  },
  {
   "cell_type": "code",
   "execution_count": 12,
   "id": "ce62ea6d",
   "metadata": {},
   "outputs": [],
   "source": [
    "# Q5. What happens if one of the slicing expression's indexes is out of range?\n",
    "# ANS-->\n",
    "#  Python will throw an index out of bounds error. However, with slicing it simply returns an empty sequence."
   ]
  },
  {
   "cell_type": "code",
   "execution_count": 13,
   "id": "7f1acacb",
   "metadata": {},
   "outputs": [
    {
     "name": "stdout",
     "output_type": "stream",
     "text": [
      "[1, 0, 0, 0]\n"
     ]
    },
    {
     "data": {
      "text/plain": [
       "[1, 0, 0, 0]"
      ]
     },
     "execution_count": 13,
     "metadata": {},
     "output_type": "execute_result"
    }
   ],
   "source": [
    "# Q6. If you pass a list to a function, and if you want the function to be able to change the values of the\n",
    "# list—so that the list is different after the function returns—what action should you avoid?\n",
    "# ANS-->\n",
    "\n",
    "\n",
    "def B(X):\n",
    "    x[0] = 1\n",
    "    print(x)\n",
    "x = [0, 0, 0, 0]\n",
    "B(x)\n",
    "x"
   ]
  },
  {
   "cell_type": "code",
   "execution_count": 15,
   "id": "55c34341",
   "metadata": {},
   "outputs": [
    {
     "name": "stdout",
     "output_type": "stream",
     "text": [
      "[1, 0, 0, 0]\n"
     ]
    },
    {
     "data": {
      "text/plain": [
       "[0, 0, 0, 0]"
      ]
     },
     "execution_count": 15,
     "metadata": {},
     "output_type": "execute_result"
    }
   ],
   "source": [
    "def B2(x):\n",
    "    x = x.copy()\n",
    "    x[0] = 1\n",
    "    print(x)\n",
    "    \n",
    "x = [0, 0, 0, 0]\n",
    "B2(x)\n",
    "x\n",
    "\n",
    "# Because python parameter is passed by object reference, and list is a mutable object, \n",
    "# once you pass a list into function and change its element, the original one would be change too.\n"
   ]
  },
  {
   "cell_type": "code",
   "execution_count": 16,
   "id": "32512002",
   "metadata": {},
   "outputs": [],
   "source": [
    "# Q7. What is the concept of an unbalanced matrix?\n",
    "# ANS-->\n",
    "# Whenever the cost matrix of an assignment problem is not a square matrix, that is, whenever the number of sources is not equal to the number of destinations,\n",
    "# the assignment problem is called an unbalanced assignment problem."
   ]
  },
  {
   "cell_type": "code",
   "execution_count": 21,
   "id": "9ff3be8c",
   "metadata": {},
   "outputs": [
    {
     "name": "stdout",
     "output_type": "stream",
     "text": [
      "[0, 2, 4, 6, 8, 10, 12, 14, 16, 18]\n"
     ]
    }
   ],
   "source": [
    "# Q8. Why is it necessary to use either list comprehension or a loop to create arbitrarily large matrices?\n",
    "# ANS-->\n",
    "# The for loop is a common way to iterate through a list. List comprehension, on the other hand, is a more efficient way to iterate through a list because it requires fewer lines of code.\n",
    "# List comprehension requires less computation power than a for loop because it takes up less space and cod\n",
    "\n",
    "# creating the empty list\n",
    "old_list = []\n",
    "# we will use the for loop to create the new list\n",
    "for x in range(10):\n",
    "    old_list.append(x*2)\n",
    "print (old_list) "
   ]
  },
  {
   "cell_type": "code",
   "execution_count": 23,
   "id": "34fc764d",
   "metadata": {},
   "outputs": [
    {
     "name": "stdout",
     "output_type": "stream",
     "text": [
      "[0, 2, 4, 6, 8, 10, 12, 14, 16, 18]\n"
     ]
    }
   ],
   "source": [
    "old_list = [x*2 for x in range(10)]\n",
    "print (old_list)"
   ]
  }
 ],
 "metadata": {
  "kernelspec": {
   "display_name": "Python 3 (ipykernel)",
   "language": "python",
   "name": "python3"
  },
  "language_info": {
   "codemirror_mode": {
    "name": "ipython",
    "version": 3
   },
   "file_extension": ".py",
   "mimetype": "text/x-python",
   "name": "python",
   "nbconvert_exporter": "python",
   "pygments_lexer": "ipython3",
   "version": "3.9.13"
  }
 },
 "nbformat": 4,
 "nbformat_minor": 5
}
