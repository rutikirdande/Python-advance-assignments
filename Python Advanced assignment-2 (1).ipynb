{
 "cells": [
  {
   "cell_type": "code",
   "execution_count": 1,
   "id": "3ae3396c",
   "metadata": {},
   "outputs": [],
   "source": [
    "# Q1. What is the relationship between classes and modules?\n",
    "# ANS-->\n",
    "# So a module in python is simply a way to organize the code,\n",
    "# and it contains either python classes or just functions. \n",
    "# If you need those classes or functions in your project,\n",
    "# you just import them. For instance, the math module in\n",
    "# python contains just a bunch of functions, and you just call those needed."
   ]
  },
  {
   "cell_type": "code",
   "execution_count": 2,
   "id": "37a083a7",
   "metadata": {},
   "outputs": [],
   "source": [
    "# Q2. How do you make instances and classes?\n",
    "#ANS-->\n",
    "# To create instances of a class, you call the class using \n",
    "# class name and pass in whatever arguments its __init__ method accepts."
   ]
  },
  {
   "cell_type": "code",
   "execution_count": 3,
   "id": "152ef522",
   "metadata": {},
   "outputs": [],
   "source": [
    "# Q3. Where and how should be class attributes created?\n",
    "# ANS-->\n",
    "# example\n",
    "class circle:\n",
    "    def __init__(self, radius):\n",
    "        self.pi=3.142\n",
    "        self.radius=radius\n",
    "        \n",
    "    def area(self):\n",
    "        return self.pi*self.radius\n",
    "\n",
    "    def circumference(self):\n",
    "        return 2*self.pi*self.radius\n",
    "        \n",
    "# here class circle has two attributes pi and radius\n",
    "# and it also has two methods that calculate area and circumeference of a circle."
   ]
  },
  {
   "cell_type": "code",
   "execution_count": 4,
   "id": "9d3d7513",
   "metadata": {},
   "outputs": [],
   "source": [
    "# Q4. Where and how are instance attributes created?\n",
    "# ANS-->\n",
    "# Instance attributes are defined in the constructor. Defined directly inside a class. \n",
    "# Defined inside a constructor using the self parameter.\n",
    "class Student:\n",
    "    def __init__(self, name, age): \n",
    "        self.name = name\n",
    "        self.age = age"
   ]
  },
  {
   "cell_type": "code",
   "execution_count": 5,
   "id": "492c5c75",
   "metadata": {},
   "outputs": [],
   "source": [
    "# Q5. What does the term 'self' in a Python class mean?\n",
    "# ANS-->\n",
    "# Self is the first argument to be passed in Constructor and Instance Method."
   ]
  },
  {
   "cell_type": "code",
   "execution_count": 6,
   "id": "50f2d8c2",
   "metadata": {},
   "outputs": [],
   "source": [
    "# Q6. How does a Python class handle operator overloading?\n",
    "# ANS-->\n",
    "# The operator overloading in Python means provide extended meaning \n",
    "# beyond their predefined operational meaning. Such as, we use the \"+\" \n",
    "# operator for adding two integers as well as joining two strings or\n",
    "# merging two lists. We can achieve this as the \"+\" operator is overloaded\n",
    "# by the \"int\" class and \"str\" class.\n"
   ]
  },
  {
   "cell_type": "code",
   "execution_count": 1,
   "id": "6b150806",
   "metadata": {},
   "outputs": [],
   "source": [
    "# Q7. When do you consider allowing operator overloading of your classes?\n",
    "# ANS-->\n",
    "# Consider that we have two objects which are a physical representation\n",
    "# of a class (user-defined data type) and we have to add two objects with \n",
    "# binary '+' operator it throws an error, because compiler don't know how \n",
    "# to add two objects. So we define a method for an operator and that\n",
    "# process is called operator overloading."
   ]
  },
  {
   "cell_type": "code",
   "execution_count": 3,
   "id": "c71c766a",
   "metadata": {},
   "outputs": [],
   "source": [
    "# Q8. What is the most popular form of operator overloading?\n",
    "# ANS-->\n",
    "# The most frequent instance is the adding up operator '+',\n",
    "# where it can be used for the usual addition and also for \n",
    "# combining two different strings. As mentioned on top, the\n",
    "# plus symbol's practice in dissimilar forms is the largest\n",
    "# classic example of the operator level overloading process."
   ]
  },
  {
   "cell_type": "code",
   "execution_count": 4,
   "id": "678daf06",
   "metadata": {},
   "outputs": [],
   "source": [
    "# Q9. What are the two most important concepts to grasp in order to comprehend Python OOP code ?\n",
    "# ANS-->\n",
    "# Both inheritance and polymorphism are fundamental concepts of object oriented programming. \n",
    "# These concepts help us to create code that can be extended and easily maintainable."
   ]
  }
 ],
 "metadata": {
  "kernelspec": {
   "display_name": "Python 3 (ipykernel)",
   "language": "python",
   "name": "python3"
  },
  "language_info": {
   "codemirror_mode": {
    "name": "ipython",
    "version": 3
   },
   "file_extension": ".py",
   "mimetype": "text/x-python",
   "name": "python",
   "nbconvert_exporter": "python",
   "pygments_lexer": "ipython3",
   "version": "3.9.13"
  }
 },
 "nbformat": 4,
 "nbformat_minor": 5
}
