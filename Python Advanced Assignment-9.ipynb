{
 "cells": [
  {
   "cell_type": "code",
   "execution_count": 1,
   "id": "779d8abd",
   "metadata": {},
   "outputs": [],
   "source": [
    "# Q1. In Python 3.X, what are the names and functions of string object types?\n",
    "# ANS-->\n",
    "# join(), split(), and replace() Methods."
   ]
  },
  {
   "cell_type": "code",
   "execution_count": 2,
   "id": "a651f7b9",
   "metadata": {},
   "outputs": [],
   "source": [
    "# Q2. How do the string forms in Python 3.X vary in terms of operations?\n",
    "# ANS-->\n",
    "# String Operations can be done in three ways: Using f-strings. By format() method. Using % operator."
   ]
  },
  {
   "cell_type": "code",
   "execution_count": 4,
   "id": "95af01a8",
   "metadata": {},
   "outputs": [],
   "source": [
    "# Q3. In 3.X, how do you put non-ASCII Unicode characters in a string?\n",
    "# ANS-->\n",
    "# Python allows Unicode string literals to be specified by adding a u character prefix before the string literal: \n",
    "# This will create a Unicode string and the label will be appear correctly."
   ]
  },
  {
   "cell_type": "code",
   "execution_count": 5,
   "id": "986df4c5",
   "metadata": {},
   "outputs": [],
   "source": [
    "# Q4. In Python 3.X, what are the key differences between text-mode and binary-mode files?\n",
    "# ANS-->\n",
    "# Text mode is the default mode, and it is used for reading and writing text files, \n",
    "# while the binary mode is used for reading and writing binary files"
   ]
  },
  {
   "cell_type": "code",
   "execution_count": 6,
   "id": "982d2ebc",
   "metadata": {},
   "outputs": [],
   "source": [
    "# Q5. How can you interpret a Unicode text file containing text encoded in a different encoding than\n",
    "# your platform's default?\n",
    "# ANS-->\n",
    "# This is because on different operating systems, Python will use a different character encoding by default when it's working with text files. On my machine, the default character encoding is utf-8 ."
   ]
  },
  {
   "cell_type": "code",
   "execution_count": 7,
   "id": "4a04550b",
   "metadata": {},
   "outputs": [],
   "source": [
    "# Q6. What is the best way to make a Unicode text file in a particular encoding format?\n",
    "# ANS-->\n",
    "# Click the File > \"Save As\" menu. The \"Save As\" dialog box comes up. \n",
    "# 3. Enter notepad_utf-16le as the new file name and select \"Unicode\" option in the Encoding field.\n"
   ]
  },
  {
   "cell_type": "code",
   "execution_count": 8,
   "id": "eb3862f7",
   "metadata": {},
   "outputs": [],
   "source": [
    "# Q7. What qualifies ASCII text as a form of Unicode text?\n",
    "# ANS-->\n",
    "# ASCII encodes symbols, digits, letters, etc., whereas Unicode encodes special texts from different languages, letters, symbols, etc. \n",
    "# It can be said that ASCII is a subset of the Unicode encoding scheme."
   ]
  },
  {
   "cell_type": "code",
   "execution_count": 9,
   "id": "175d252a",
   "metadata": {},
   "outputs": [],
   "source": [
    "# Q8. How much of an effect does the change in string types in Python 3.X have on your code?\n",
    "# ANS-->\n",
    "# When you multiply a string by an integer, Python returns a new string. This new string is the original string, \n",
    "# repeated X number of times (where X is the value of the integer)."
   ]
  }
 ],
 "metadata": {
  "kernelspec": {
   "display_name": "Python 3 (ipykernel)",
   "language": "python",
   "name": "python3"
  },
  "language_info": {
   "codemirror_mode": {
    "name": "ipython",
    "version": 3
   },
   "file_extension": ".py",
   "mimetype": "text/x-python",
   "name": "python",
   "nbconvert_exporter": "python",
   "pygments_lexer": "ipython3",
   "version": "3.9.13"
  }
 },
 "nbformat": 4,
 "nbformat_minor": 5
}
