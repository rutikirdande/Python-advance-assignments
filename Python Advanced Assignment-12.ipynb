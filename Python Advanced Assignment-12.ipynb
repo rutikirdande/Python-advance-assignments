{
 "cells": [
  {
   "cell_type": "code",
   "execution_count": 1,
   "id": "b9b6095b",
   "metadata": {},
   "outputs": [],
   "source": [
    "# Q1. Does assigning a value to a string's indexed character violate Python&#39;s string immutability?\n",
    "# ANS-->\n",
    "# Strings in Python are immutable which means that once a string variable is assigned to a string (For eg a ='Hello' ) \n",
    "# the contents of the string cannot be changed unlike the list obje\n"
   ]
  },
  {
   "cell_type": "code",
   "execution_count": 2,
   "id": "cac74cba",
   "metadata": {},
   "outputs": [
    {
     "name": "stdout",
     "output_type": "stream",
     "text": [
      "The first name: Emma\n",
      "The second name: Watson\n",
      "The appended string: EmmaWatson\n"
     ]
    }
   ],
   "source": [
    "# Q2. Does using the += operator to concatenate strings violate Python's string immutability? Why or\n",
    "# why not?\n",
    "# ANS-->\n",
    "# It violates the rules of how ID values and += are supposed to work - the ID\n",
    "# values produced with the optimization in place would be not only impossible,\n",
    "# but prohibited, with the unoptimized semantics - but the developers care\n",
    "# more about people who would see bad concatenation performance and \n",
    "# assume Python sucks\n",
    "first_name = \"Emma\"\n",
    "second_name = \"Watson\"\n",
    "\n",
    "print (\"The first name: \" + str(first_name))\n",
    "print (\"The second name: \" + str(second_name))\n",
    "\n",
    "first_name += second_name\n",
    "\n",
    "print (\"The appended string: \" + first_name)"
   ]
  },
  {
   "cell_type": "code",
   "execution_count": 3,
   "id": "4afa6e11",
   "metadata": {},
   "outputs": [
    {
     "name": "stdout",
     "output_type": "stream",
     "text": [
      "the index where the substring is found: 15\n"
     ]
    }
   ],
   "source": [
    "# Q3. In Python, how many different ways are there to index a character?\n",
    "# ANS-->\n",
    "# Python String index() Method. The python string index() method is used\n",
    "# to return the index of the input string where the substring is found.\n",
    "# Basically, it helps us to find out if the specified substring is present\n",
    "# in the input string. This method takes the substring that is to be found\n",
    "# as a mandatory parameter.\n",
    "\n",
    "str1 = \"Hello! welcome to worldland\"\n",
    "str2 = \"to\"\n",
    "result = str1.index(str2)\n",
    "print(\"the index where the substring is found:\", result)"
   ]
  },
  {
   "cell_type": "code",
   "execution_count": 4,
   "id": "6f7bd128",
   "metadata": {},
   "outputs": [],
   "source": [
    "# Q4. What is the relationship between indexing and slicing?\n",
    "# ANS-->\n",
    "# “Indexing” means referring to an element of an iterable by its position within the iterable. \n",
    "# “Slicing” means getting a subset of elements from an iterable based on their indices."
   ]
  },
  {
   "cell_type": "code",
   "execution_count": 5,
   "id": "11acaff9",
   "metadata": {},
   "outputs": [],
   "source": [
    "# Q5. What is an indexed character's exact data type? What is the data form of a slicing-generated\n",
    "# substring?\n",
    "# ANS-->\n",
    "# Python has no special type for a single character. It is just a string of length 1.\n",
    "# String slicing in Python is about obtaining a sub-string from the given string by slicing it respectively from start to end"
   ]
  },
  {
   "cell_type": "code",
   "execution_count": 6,
   "id": "cabb584e",
   "metadata": {},
   "outputs": [],
   "source": [
    "# Q6. What is the relationship between string and character \"types\" in Python?\n",
    "# ANS-->\n",
    "# Like many other popular programming languages, strings in Python are arrays of bytes representing unicode characters. However, Python does not have a character data type,\n",
    "# a single character is simply a string with a length of 1"
   ]
  },
  {
   "cell_type": "code",
   "execution_count": 7,
   "id": "4271947f",
   "metadata": {},
   "outputs": [],
   "source": [
    "# Q7. Identify at least two operators and one method that allow you to combine one or more smaller\n",
    "# strings to create a larger string.\n",
    "# ANS-->\n",
    "# We can perform string concatenation using following ways: Using + operator. Using join() method."
   ]
  },
  {
   "cell_type": "code",
   "execution_count": 8,
   "id": "eeae7139",
   "metadata": {},
   "outputs": [],
   "source": [
    "# Q8. What is the benefit of first checking the target string with in or not in before using the index\n",
    "# method to find a substring?\n",
    "# ANS-->\n",
    "# The in membership operator gives you a quick and readable way to check whether a substring is present in a string"
   ]
  },
  {
   "cell_type": "code",
   "execution_count": 9,
   "id": "4fb960d6",
   "metadata": {},
   "outputs": [],
   "source": [
    "# Q9. Which operators and built-in string methods produce simple Boolean (true/false) results?\n",
    "# ANS-->\n",
    "#  True , False , not , and , and or are the only built-in Python Boolean operator"
   ]
  }
 ],
 "metadata": {
  "kernelspec": {
   "display_name": "Python 3 (ipykernel)",
   "language": "python",
   "name": "python3"
  },
  "language_info": {
   "codemirror_mode": {
    "name": "ipython",
    "version": 3
   },
   "file_extension": ".py",
   "mimetype": "text/x-python",
   "name": "python",
   "nbconvert_exporter": "python",
   "pygments_lexer": "ipython3",
   "version": "3.9.13"
  }
 },
 "nbformat": 4,
 "nbformat_minor": 5
}
