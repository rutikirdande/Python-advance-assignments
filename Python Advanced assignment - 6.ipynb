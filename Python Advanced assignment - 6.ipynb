{
 "cells": [
  {
   "cell_type": "code",
   "execution_count": 2,
   "id": "0e216772",
   "metadata": {},
   "outputs": [
    {
     "name": "stdout",
     "output_type": "stream",
     "text": [
      "the index and element from the array is  0 python\n",
      "the index and element from the array is  1 Exception\n",
      "the index and element from the array is  2 try and except\n",
      "index out of range\n"
     ]
    }
   ],
   "source": [
    "# Q1. Describe three applications for exception processing.\n",
    "# ANS-->\n",
    "# 1. Division by Zero\n",
    "# 2. Accessing a file which is not exstent\n",
    "# 3. Addition of two incompatible types\n",
    "# eg.\n",
    "\n",
    "a = ['python', 'Exception', 'try and except']\n",
    "try:\n",
    "    for i in range(4):\n",
    "        print('the index and element from the array is ', i, a[i])\n",
    "        \n",
    "except:\n",
    "    print('index out of range')"
   ]
  },
  {
   "cell_type": "code",
   "execution_count": 19,
   "id": "59e42828",
   "metadata": {},
   "outputs": [],
   "source": [
    "# Q2. What happens if you don't do something extra to treat an exception?\n",
    "# ANS-->\n",
    "# When an exception occurred, if you don't handle it,\n",
    "# the program terminates abruptly and the code past the line that caused the exception will not get executed.\n"
   ]
  },
  {
   "cell_type": "code",
   "execution_count": 21,
   "id": "51cd4d7a",
   "metadata": {},
   "outputs": [],
   "source": [
    "# Q3. What are your options for recovering from an exception in your script?\n",
    "# ANS-->\n",
    "# Yo can also provide a generic except clause, which handles any exception. After the except clause(s), you can include an else-clause.\n",
    "# The code in the else-block executes if the code in the try: block does not raise an exception. The else-block is a good place for code \n",
    "# that does not need the try: block's protection."
   ]
  },
  {
   "cell_type": "code",
   "execution_count": 27,
   "id": "cd37e940",
   "metadata": {},
   "outputs": [
    {
     "name": "stdout",
     "output_type": "stream",
     "text": [
      "check if the file is read-only. 2\n"
     ]
    }
   ],
   "source": [
    "# Q4. Describe two methods for triggering exceptions in your script.\n",
    "# ANS-->\n",
    "# In Python, exceptions can be handled by two new methods:\n",
    "# Try: Catches exceptions raised by Python or a program. Raise: A custom exception that triggers an exception manually\n",
    "try:\n",
    "    fp = open('myfile.txt')\n",
    "    line = f.readline()\n",
    "    i = int(s.strip())\n",
    "\n",
    "except (IOError,ValueError) as e:\n",
    "    print (\"check if the file is read-only.\",e.errno)\n",
    "\n",
    "except:\n",
    "    print (\"Unexpected error\")"
   ]
  },
  {
   "cell_type": "code",
   "execution_count": 28,
   "id": "04bcba01",
   "metadata": {},
   "outputs": [],
   "source": [
    "# Q5. Identify two methods for specifying actions to be executed at termination time, regardless of\n",
    "# whether or not an exception exists.\n",
    "# ANS-->\n",
    "# Inside each except clause we define handler codes to handle the matching exception raised in the try block.\n",
    "# The optional else clause contains codes to be executed if no exception occurs. The optional finally block\n",
    "# contains codes to be executed irrespective of whether an exception occurs or not."
   ]
  }
 ],
 "metadata": {
  "kernelspec": {
   "display_name": "Python 3 (ipykernel)",
   "language": "python",
   "name": "python3"
  },
  "language_info": {
   "codemirror_mode": {
    "name": "ipython",
    "version": 3
   },
   "file_extension": ".py",
   "mimetype": "text/x-python",
   "name": "python",
   "nbconvert_exporter": "python",
   "pygments_lexer": "ipython3",
   "version": "3.9.13"
  }
 },
 "nbformat": 4,
 "nbformat_minor": 5
}
