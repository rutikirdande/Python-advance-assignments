{
 "cells": [
  {
   "cell_type": "code",
   "execution_count": 3,
   "id": "90b90c04",
   "metadata": {},
   "outputs": [
    {
     "name": "stdout",
     "output_type": "stream",
     "text": [
      "Mammals can give direct birth.\n",
      "Winged animals can flap.\n"
     ]
    }
   ],
   "source": [
    "# Q1. What is the meaning of multiple inheritance?\n",
    "# ANS-->\n",
    "# A class can be derived from more than one superclass in Python.\n",
    "# This is called multiple inheritance.\n",
    "class mammel:\n",
    "    def mammle_info(self):\n",
    "        print(\"Mammals can give direct birth.\")\n",
    "        \n",
    "class wingedanimal:\n",
    "    def winged_animal_info(self):\n",
    "        print(\"Winged animals can flap.\")\n",
    "        \n",
    "class bat(mammel, wingedanimal):\n",
    "    pass\n",
    "\n",
    "b1=bat()\n",
    "b1.mammle_info()\n",
    "b1.winged_animal_info()"
   ]
  },
  {
   "cell_type": "code",
   "execution_count": 4,
   "id": "f1aed0f4",
   "metadata": {},
   "outputs": [],
   "source": [
    "# Q2. What is the concept of delegation?\n",
    "# ANS-->\n",
    "# Deligation is a design pattern in which an object, called the delegate, is responsible\n",
    "# for performing certain task on behalf of another object, called the delegator\n",
    "# this can be done by the delegator forwarding method calls and attribute access to the delegate\n"
   ]
  },
  {
   "cell_type": "code",
   "execution_count": 7,
   "id": "d5548acf",
   "metadata": {},
   "outputs": [
    {
     "name": "stdout",
     "output_type": "stream",
     "text": [
      "190000\n"
     ]
    }
   ],
   "source": [
    "# Q3. What is the concept of composition?\n",
    "# ANS-->\n",
    "# Composition means that an object knows another object, and explicitly delegates some tasks to it.\n",
    "class Salary:\n",
    "    def __init__(self, pay, bonus):\n",
    "        self.pay=pay\n",
    "        self.bonus=bonus\n",
    "    def annual_salary(self):\n",
    "        return (self.pay*12)+self.bonus\n",
    "class Employee:\n",
    "    def __init__(self, name, age, pay, bonus):\n",
    "        self.name=name\n",
    "        self.age=age\n",
    "        self.obj_salary=Salary(pay, bonus)\n",
    "    def total_salary(self): \n",
    "             return self.obj_salary.annual_salary()     \n",
    "emp = Employee('max', 25, 15000, 10000)\n",
    "print(emp.total_salary())  \n",
    "\n",
    "   \n",
    "    "
   ]
  },
  {
   "cell_type": "code",
   "execution_count": 8,
   "id": "3b51adf7",
   "metadata": {},
   "outputs": [
    {
     "name": "stdout",
     "output_type": "stream",
     "text": [
      "<bound method A.func of <__main__.A object at 0x000001C668135910>>\n"
     ]
    }
   ],
   "source": [
    "# Q4. What are bound methods and how do we use them?\n",
    "# ANS-->\n",
    "# A bound method is the one which is dependent on the instance of the class as the first argument.\n",
    "# It passes the instance as the first argument which is used to access the variables and functions. \n",
    "\n",
    "class A:\n",
    "  \n",
    "    def func(self, arg):\n",
    "        self.arg = arg\n",
    "        print(\"Value of arg = \", arg)\n",
    "  \n",
    "  \n",
    "# Creating an instance\n",
    "obj = A()  \n",
    "  \n",
    "# bound method\n",
    "print(obj.func)"
   ]
  },
  {
   "cell_type": "code",
   "execution_count": null,
   "id": "4243d4d5",
   "metadata": {},
   "outputs": [],
   "source": [
    "# Q5. What is the purpose of pseudoprivate attributes?\n",
    "# ANS-->\n",
    "# One of the main problems that the pseudoprivate attribute feature is meant to alleviate has to do with the way instance attributes are stored.\n",
    "# In Python, all instance attributes wind up in the single instance object at the bottom of the class tree"
   ]
  },
  {
   "cell_type": "code",
   "execution_count": null,
   "id": "e416e6c4",
   "metadata": {},
   "outputs": [],
   "source": []
  }
 ],
 "metadata": {
  "kernelspec": {
   "display_name": "Python 3 (ipykernel)",
   "language": "python",
   "name": "python3"
  },
  "language_info": {
   "codemirror_mode": {
    "name": "ipython",
    "version": 3
   },
   "file_extension": ".py",
   "mimetype": "text/x-python",
   "name": "python",
   "nbconvert_exporter": "python",
   "pygments_lexer": "ipython3",
   "version": "3.9.13"
  }
 },
 "nbformat": 4,
 "nbformat_minor": 5
}
