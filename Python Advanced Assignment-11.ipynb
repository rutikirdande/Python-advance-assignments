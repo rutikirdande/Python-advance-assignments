{
 "cells": [
  {
   "cell_type": "code",
   "execution_count": 1,
   "id": "678e18f5",
   "metadata": {},
   "outputs": [],
   "source": [
    "# Q1. What is the concept of a metaclass?\n",
    "# ANS-->\n",
    "# A metaclass in Python is a class of a class that defines how a class behaves.\n",
    "# A class is itself an instance of a metaclass. A class in Python defines how the instance of the class will behave. \n",
    "# In order to understand metaclasses well, one needs to have prior experience working with Python classes."
   ]
  },
  {
   "cell_type": "code",
   "execution_count": 2,
   "id": "facd3f49",
   "metadata": {},
   "outputs": [],
   "source": [
    "# Q2. What is the best way to declare a class's metaclass?\n",
    "# ANS-->\n",
    "# In Python, we can customize the class creation process by passing the metaclass keyword in the class definition. \n",
    "\n",
    "class MyMeta(type):\n",
    "    pass\n",
    "class MyClass(metaclass=MyMeta):\n",
    "    pass\n",
    "class MySubclass(MyClass):\n",
    "    pass\n"
   ]
  },
  {
   "cell_type": "code",
   "execution_count": 3,
   "id": "4eb11451",
   "metadata": {},
   "outputs": [],
   "source": [
    "# Q3. How do class decorators overlap with metaclasses for handling classes?\n",
    "# ANS-->\n",
    "# Decorators essentially automate the prior example's manual name rebinding here.\n",
    "# Just like with metaclasses, because the decorator returns the original class, \n",
    "# instances are made from it, not from a wrapper object.\n",
    "# In fact, instance creation is not intercepted at all"
   ]
  },
  {
   "cell_type": "code",
   "execution_count": 4,
   "id": "2bd972f9",
   "metadata": {},
   "outputs": [],
   "source": [
    "# Q4. How do class decorators overlap with metaclasses for handling instances?\n",
    "# ANS-->\n",
    "# In this specific case—adding methods to a class when it's created—the choice between metaclasses and decorators is somewhat arbitrary. \n",
    "# Decorators can be used to manage both instances and classes, and they intersect with metaclasses in the second of these roles."
   ]
  },
  {
   "cell_type": "code",
   "execution_count": null,
   "id": "42f15602",
   "metadata": {},
   "outputs": [],
   "source": []
  }
 ],
 "metadata": {
  "kernelspec": {
   "display_name": "Python 3 (ipykernel)",
   "language": "python",
   "name": "python3"
  },
  "language_info": {
   "codemirror_mode": {
    "name": "ipython",
    "version": 3
   },
   "file_extension": ".py",
   "mimetype": "text/x-python",
   "name": "python",
   "nbconvert_exporter": "python",
   "pygments_lexer": "ipython3",
   "version": "3.9.13"
  }
 },
 "nbformat": 4,
 "nbformat_minor": 5
}
